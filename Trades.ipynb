{
 "cells": [
  {
   "cell_type": "code",
   "execution_count": 1,
   "metadata": {},
   "outputs": [],
   "source": [
    "class Trade:\n",
    "    '''\n",
    "    Executes a trade according to specifications through the Oanda platform.\n",
    "    '''\n",
    "    def __init__(self, client, account, units, instrument, otype, timeInForce):\n",
    "        self.client = client\n",
    "        self.account = account\n",
    "        self.data = {\n",
    "            \"order\": {\n",
    "                \"units\": str(units),\n",
    "                \"instrument\": instrument,\n",
    "                \"timeInForce\": timeInForce,\n",
    "                \"type\": otype,\n",
    "                \"positionFill\": \"DEFAULT\"\n",
    "            }\n",
    "        }\n",
    "    \n",
    "    def execute_order(self):\n",
    "        r = orders.OrderCreate(self.account, data=self.data)\n",
    "        self.client.request(r)\n",
    "        return r.response"
   ]
  },
  {
   "cell_type": "code",
   "execution_count": 2,
   "metadata": {},
   "outputs": [],
   "source": [
    "class Account:\n",
    "    '''\n",
    "    Initiates and updates an Account object related to your Oanda account. \n",
    "    This allows you to track your current positions, p&l, margin, etc.\n",
    "    '''\n",
    "    def __init__(self, client, account):\n",
    "        self.client = client\n",
    "        self.account = account\n",
    "        r = accounts.AccountDetails(self.account)\n",
    "        self.client.request(r)\n",
    "        response = r.response\n",
    "        self.pos = response['account']['positions']\n",
    "        self.unrealizedPL = response['account']['unrealizedPL']\n",
    "        self.ords = response['account']['orders']\n",
    "        self.pl = response['account']['pl']\n",
    "        self.marginAvail = response['account']['marginAvailable']\n",
    "        self.marginRate = response['account']['marginRate']\n",
    "        self.balance = response['account']['balance']\n",
    "        \n",
    "    def update(self):\n",
    "        r = accounts.AccountDetails(self.account)\n",
    "        self.client.request(r)\n",
    "        response = r.response\n",
    "        self.pos = response['account']['positions']\n",
    "        self.unrealizedPL = response['account']['unrealizedPL']\n",
    "        self.ords = response['account']['orders']\n",
    "        self.pl = response['account']['pl']\n",
    "        self.marginAvail = response['account']['marginAvailable']\n",
    "        self.marginRate = response['account']['marginRate']\n",
    "        self.balance = response['account']['balance']"
   ]
  }
 ],
 "metadata": {
  "kernelspec": {
   "display_name": "Python 3",
   "language": "python",
   "name": "python3"
  },
  "language_info": {
   "codemirror_mode": {
    "name": "ipython",
    "version": 3
   },
   "file_extension": ".py",
   "mimetype": "text/x-python",
   "name": "python",
   "nbconvert_exporter": "python",
   "pygments_lexer": "ipython3",
   "version": "3.7.7"
  }
 },
 "nbformat": 4,
 "nbformat_minor": 4
}
