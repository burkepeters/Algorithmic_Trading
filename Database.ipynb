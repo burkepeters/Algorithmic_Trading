{
 "cells": [
  {
   "cell_type": "code",
   "execution_count": 1,
   "metadata": {},
   "outputs": [],
   "source": [
    "class Database:\n",
    "    def __init__(self, dbName):\n",
    "        self.db = dbName\n",
    "        self.conn = sq.connect(self.db)\n",
    "        self.cur = self.conn.cursor()\n",
    "        \n",
    "    def disconnect(self):\n",
    "        self.conn.close()\n",
    "        \n",
    "    def dbRead(self, tableName):\n",
    "        df = pd.read_sql_query(\"select * from {};\".format(tableName), self.conn)\n",
    "        df = df.set_index('time')\n",
    "        return df\n",
    "    \n",
    "    def dbPartial(self, tableName, n):\n",
    "        df = pd.read_sql_query(\"select * from {} ORDER BY time DESC LIMIT {};\".format(tableName, n), self.conn)\n",
    "        df = df.iloc[::-1]\n",
    "        df = df.set_index('time')\n",
    "        df = df[['close', 'high', 'low', 'open']]\n",
    "        return df\n",
    "    \n",
    "    def dbReplace(self, df, tableName):\n",
    "        '''\n",
    "        Initiate and replace Database. \n",
    "        '''\n",
    "        df.to_sql(\"{}\".format(tableName), self.conn, if_exists=\"replace\")\n",
    "        \n",
    "    def dbUpdate(self, df, tableName):\n",
    "        '''Append existing Database.'''\n",
    "        df.to_sql(\"{}\".format(tableName), self.conn, if_exists = \"append\")"
   ]
  }
 ],
 "metadata": {
  "kernelspec": {
   "display_name": "Python 3",
   "language": "python",
   "name": "python3"
  },
  "language_info": {
   "codemirror_mode": {
    "name": "ipython",
    "version": 3
   },
   "file_extension": ".py",
   "mimetype": "text/x-python",
   "name": "python",
   "nbconvert_exporter": "python",
   "pygments_lexer": "ipython3",
   "version": "3.7.7"
  }
 },
 "nbformat": 4,
 "nbformat_minor": 4
}
