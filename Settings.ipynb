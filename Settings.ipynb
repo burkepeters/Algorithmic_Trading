{
 "cells": [
  {
   "cell_type": "code",
   "execution_count": 1,
   "metadata": {},
   "outputs": [],
   "source": [
    "# Set up a custom balance amount for Paper trading.\n",
    "balance = 10000.00\n",
    "\n",
    "# Instrument you wish to analyze.\n",
    "instrument = \"EUR_USD\"\n",
    "\n",
    "# Oanda timeframe indicator (30 minutes here).\n",
    "period = \"M30\"\n",
    "\n",
    "operation = \"Backtest\" # Can also be \"Live\" or \"Paper\".\n",
    "\n",
    "# Selects the model from Models.ipynb\n",
    "models = \"Logistic Regression\"\n",
    "        #\"Support Vector Machine\",\n",
    "        #\"Gaussian Naive Bayes\"] # Only one for live trading right now. \n",
    "        \n",
    "# Instructs Model.\n",
    "instructions = {\n",
    "    \"DV\": \"direction\",\n",
    "    \"IVs\":{\n",
    "        \"Returns\": [ # Key is IV db label.\n",
    "            12, # number of lags (at least 1).\n",
    "            'digitized' # whether or not to digitize. \n",
    "        ]\n",
    "    }\n",
    "}"
   ]
  },
  {
   "cell_type": "code",
   "execution_count": 2,
   "metadata": {},
   "outputs": [],
   "source": [
    "# Oanda Libraries\n",
    "from oandapyV20 import API \n",
    "import oandapyV20.endpoints.instruments as instruments\n",
    "import oandapyV20.endpoints.accounts as accounts\n",
    "import oandapyV20.endpoints.orders as orders\n",
    "import oandapyV20.endpoints.positions as positions\n",
    "import oandapyV20.endpoints.trades as trades\n",
    "import oandapyV20.endpoints.transactions as transactions\n",
    "\n",
    "# Organization Libraries\n",
    "import math\n",
    "import numpy as np\n",
    "import pandas as pd\n",
    "from pandas import Timestamp\n",
    "import sqlite3 as sq\n",
    "\n",
    "# Model Libraries\n",
    "from sklearn import linear_model\n",
    "from sklearn.naive_bayes import GaussianNB\n",
    "from sklearn.svm import SVC\n",
    "from sklearn.svm import LinearSVC\n",
    "from sklearn.neural_network import MLPClassifier\n",
    "from sklearn.metrics import accuracy_score\n",
    "\n",
    "# Time Libraries\n",
    "import time\n",
    "import datetime as dt\n",
    "from datetime import timezone\n",
    "import iso8601"
   ]
  },
  {
   "cell_type": "code",
   "execution_count": 3,
   "metadata": {},
   "outputs": [],
   "source": [
    "# key = # YOUR OANDA KEY HERE\n",
    "# account = # YOUR ACCOUNT NUMBER HERE\n",
    "\n",
    "# Initiate Oanda Client\n",
    "# client = API(key)"
   ]
  },
  {
   "cell_type": "code",
   "execution_count": 4,
   "metadata": {},
   "outputs": [],
   "source": [
    "def get_date_object(date_string):\n",
    "    '''\n",
    "    Takes an ISO 8601 date-type and turns it into a Datetime Timestamp. \n",
    "    '''\n",
    "    return iso8601.parse_date(date_string)"
   ]
  }
 ],
 "metadata": {
  "kernelspec": {
   "display_name": "Python 3",
   "language": "python",
   "name": "python3"
  },
  "language_info": {
   "codemirror_mode": {
    "name": "ipython",
    "version": 3
   },
   "file_extension": ".py",
   "mimetype": "text/x-python",
   "name": "python",
   "nbconvert_exporter": "python",
   "pygments_lexer": "ipython3",
   "version": "3.7.7"
  }
 },
 "nbformat": 4,
 "nbformat_minor": 4
}
