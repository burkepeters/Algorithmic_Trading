{
 "cells": [
  {
   "cell_type": "code",
   "execution_count": 1,
   "metadata": {},
   "outputs": [],
   "source": [
    "class Model:\n",
    "    '''\n",
    "    The default model is a Logistic Regression.\n",
    "    '''\n",
    "    def __init__(self, train, cols_bin, y):\n",
    "        self.C = 1\n",
    "        self.train = train\n",
    "        self.cols_bin = cols_bin\n",
    "        self.y = y\n",
    "        self.model = linear_model.LogisticRegression(C = self.C)\n",
    "        self.mfit = self.model.fit(self.train[self.cols_bin], self.train[self.y])\n",
    "        \n",
    "    def predict(self, df):\n",
    "        self.df = df\n",
    "        self.prediction = self.mfit.predict(df[self.cols_bin])[0]\n",
    "        \n",
    "    def predict_proba(self, df):\n",
    "        self.df = df\n",
    "        self.prob = self.mfit.predict_proba(df[self.cols_bin])"
   ]
  },
  {
   "cell_type": "code",
   "execution_count": 2,
   "metadata": {},
   "outputs": [],
   "source": [
    "class SVM_Model(Model):\n",
    "    '''Support Vector Machine'''\n",
    "    def __init__(self, train, cols_bin, y):\n",
    "        self.C = 1\n",
    "        self.train = train\n",
    "        self.cols_bin = cols_bin\n",
    "        self.y = y\n",
    "        self.model = SVC(C=self.C)\n",
    "        self.mfit = self.model.fit(self.train[self.cols_bin], self.train[self.y])"
   ]
  },
  {
   "cell_type": "code",
   "execution_count": 3,
   "metadata": {},
   "outputs": [],
   "source": [
    "class LinearSVM_Model(Model):\n",
    "    '''Linear Support Vector Machine'''\n",
    "    def __init__(self, train, cols_bin, y):\n",
    "        self.C = 1\n",
    "        self.train = train\n",
    "        self.cols_bin = cols_bin\n",
    "        self.y = y\n",
    "        self.model = LinearSVC(C=self.C)\n",
    "        self.mfit = self.model.fit(self.train[self.cols_bin], self.train[self.y])"
   ]
  },
  {
   "cell_type": "code",
   "execution_count": 4,
   "metadata": {},
   "outputs": [],
   "source": [
    "class Gauss_Model(Model):\n",
    "    '''Gaussian Naive Bayes'''\n",
    "    def __init__(self, train, cols_bin, y):\n",
    "        self.C = 1\n",
    "        self.train = train\n",
    "        self.cols_bin = cols_bin\n",
    "        self.y = y\n",
    "        self.model = GaussianNB()\n",
    "        self.mfit = self.model.fit(self.train[self.cols_bin], self.train[self.y])"
   ]
  },
  {
   "cell_type": "code",
   "execution_count": 5,
   "metadata": {},
   "outputs": [],
   "source": [
    "class MLP_Model(Model):\n",
    "    '''Multi-Layer Perceptron Classifier'''\n",
    "    def __init__(self, train, cols_bin, y):\n",
    "        self.C = 1\n",
    "        self.train = train\n",
    "        self.cols_bin = cols_bin\n",
    "        self.y = y\n",
    "        self.model = MLPClassifier(alpha=1e-5, max_iter=500,\n",
    "                                  hidden_layer_sizes=3 * [500],\n",
    "                                  random_state=1)\n",
    "        self.mfit = self.model.fit(self.train[self.cols_bin], self.train[self.y])"
   ]
  },
  {
   "cell_type": "code",
   "execution_count": 6,
   "metadata": {},
   "outputs": [],
   "source": [
    "class RiskManager:\n",
    "    '''Computes accuracy scores and attempts to calculate Kelly Criterion.'''\n",
    "    def __init__(self, train, cols_bin, mfit, y):\n",
    "        self.train = train\n",
    "        self.cols_bin = cols_bin\n",
    "        self.mfit = mfit\n",
    "        self.y = y\n",
    "        self.train['strat_pos'] = self.mfit.predict(self.train[self.cols_bin])\n",
    "        self.train['strat_ret'] = self.train['strat_pos'] * self.train['Returns']\n",
    "        NN = len(self.train[(self.train['strat_pos'] == -1) & (self.train['direction'] == -1)])\n",
    "        NP = len(self.train[(self.train['strat_pos'] == -1) & (self.train['direction'] == 1)])\n",
    "        PN = len(self.train[(self.train['strat_pos'] == 1) & (self.train['direction'] == -1)])\n",
    "        PP = len(self.train[(self.train['strat_pos'] == 1) & (self.train['direction'] == 1)])\n",
    "        self.score = accuracy_score(self.train[self.y], self.train['strat_pos'])\n",
    "        self.precision = (PP) / (PP + PN)\n",
    "        self.recall = (PP) / (PP + NP)\n",
    "        self.f1 = 2 * ((self.precision * self.recall) / (self.precision + self.recall))\n",
    "        W = (NN + PP) / (NN + NP + PN + PP)\n",
    "        gains = list(self.train[((self.train['strat_pos'] == 1) & (self.train['direction'] == 1)) | \n",
    "                        ((self.train['strat_pos'] == -1) & (self.train['direction'] == -1))].strat_ret)\n",
    "        losses = list(self.train[((self.train['strat_pos'] == 1) & (self.train['direction'] == -1)) | \n",
    "                        ((self.train['strat_pos'] == -1) & (self.train['direction'] == 1))].strat_ret)\n",
    "\n",
    "        R = (sum(gains) / len(gains)) / (sum(losses) / len(losses))\n",
    "\n",
    "        self.K = W - ((1 - W)/R)\n",
    "        \n",
    "    def pos_size(self, balance):\n",
    "        pos_size = (self.K * balance)\n",
    "        return pos_size"
   ]
  }
 ],
 "metadata": {
  "kernelspec": {
   "display_name": "Python 3",
   "language": "python",
   "name": "python3"
  },
  "language_info": {
   "codemirror_mode": {
    "name": "ipython",
    "version": 3
   },
   "file_extension": ".py",
   "mimetype": "text/x-python",
   "name": "python",
   "nbconvert_exporter": "python",
   "pygments_lexer": "ipython3",
   "version": "3.7.7"
  }
 },
 "nbformat": 4,
 "nbformat_minor": 4
}
