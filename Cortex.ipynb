{
 "cells": [
  {
   "cell_type": "code",
   "execution_count": null,
   "metadata": {},
   "outputs": [],
   "source": [
    "# Gather Dependencies\n",
    "%run Settings.ipynb\n",
    "%run Generate.ipynb\n",
    "%run Database.ipynb\n",
    "%run Process.ipynb\n",
    "%run Models.ipynb\n",
    "%run Trades.ipynb"
   ]
  },
  {
   "cell_type": "code",
   "execution_count": null,
   "metadata": {},
   "outputs": [],
   "source": [
    "# Gather Account Details\n",
    "Account = Account(client, account)"
   ]
  },
  {
   "cell_type": "code",
   "execution_count": null,
   "metadata": {},
   "outputs": [],
   "source": [
    "# Initiate Database\n",
    "Db = Database(instrument)"
   ]
  },
  {
   "cell_type": "code",
   "execution_count": null,
   "metadata": {},
   "outputs": [],
   "source": [
    "# Initiate Generator\n",
    "Gen = Generator(instrument, period)"
   ]
  },
  {
   "cell_type": "code",
   "execution_count": null,
   "metadata": {},
   "outputs": [],
   "source": [
    "# Make first pull and pre-process.\n",
    "df, cols_bin = process(Gen.first_pull(), instructions)"
   ]
  },
  {
   "cell_type": "code",
   "execution_count": null,
   "metadata": {},
   "outputs": [],
   "source": [
    "# Replace Database. \n",
    "Db.dbReplace(df, \"Database\")\n",
    "\n",
    "# Train Model.\n",
    "Model = Model(df, cols_bin, instructions['DV'])"
   ]
  },
  {
   "cell_type": "code",
   "execution_count": null,
   "metadata": {},
   "outputs": [],
   "source": [
    "# Set Index Initiation for database update.\n",
    "init = df.index[-1]"
   ]
  },
  {
   "cell_type": "code",
   "execution_count": null,
   "metadata": {},
   "outputs": [],
   "source": [
    "# MAIN LOOP\n",
    "while True:\n",
    "    df = Gen.update(init)\n",
    "    \n",
    "    if len(df) > 0:\n",
    "        \n",
    "        df = Process(Db, df, 12).process(instructions)\n",
    "        \n",
    "        Db.dbUpdate(df, \"Database\")\n",
    "        \n",
    "        init = Timestamp(df.index[-1])\n",
    "        \n",
    "    print(\"Sleeping...\")\n",
    "    Gen.sleepytime()\n",
    "    print(\"Doing Things...\")"
   ]
  }
 ],
 "metadata": {
  "kernelspec": {
   "display_name": "Python 3",
   "language": "python",
   "name": "python3"
  },
  "language_info": {
   "codemirror_mode": {
    "name": "ipython",
    "version": 3
   },
   "file_extension": ".py",
   "mimetype": "text/x-python",
   "name": "python",
   "nbconvert_exporter": "python",
   "pygments_lexer": "ipython3",
   "version": "3.7.7"
  }
 },
 "nbformat": 4,
 "nbformat_minor": 4
}
